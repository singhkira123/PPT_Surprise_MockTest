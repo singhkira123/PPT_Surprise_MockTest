{
 "cells": [
  {
   "cell_type": "markdown",
   "id": "498f5bab",
   "metadata": {},
   "source": [
    "Given a non-negative integer x, return the square root of x rounded down to the nearest integer. The returned integer should be non-negative as well. You must not use any built-in exponent function or operator. \n",
    "\n",
    " Example 1:\n",
    "Input: x = 4 <br>\n",
    "Output: 2 Explanation: The square root of 4 is 2, so we return 2.\n",
    "\n",
    "Example 2:\n",
    "\n",
    "Input: x = 8 <br>\n",
    "Output: 2 Explanation: The square root of 8 is 2.82842..., and since we round it down to the nearest integer, \n",
    "2 is returned.\n",
    "\n",
    "Constraints:\n",
    "\n",
    "0 <= x <= 2^31 - 1\n"
   ]
  },
  {
   "cell_type": "code",
   "execution_count": 1,
   "id": "63f6a3a9",
   "metadata": {},
   "outputs": [],
   "source": [
    "def mySqrt(x: int) -> int:\n",
    "    if x == 0:\n",
    "        return 0\n",
    "    left, right = 1, x\n",
    "    while left <= right:\n",
    "        mid = (left + right) // 2\n",
    "        if mid * mid <= x < (mid + 1) * (mid + 1):\n",
    "            return mid\n",
    "        elif x < mid * mid:\n",
    "            right = mid - 1\n",
    "        else:\n",
    "            left = mid + 1"
   ]
  },
  {
   "cell_type": "code",
   "execution_count": 2,
   "id": "aa0b342d",
   "metadata": {},
   "outputs": [
    {
     "name": "stdout",
     "output_type": "stream",
     "text": [
      "2\n",
      "2\n"
     ]
    }
   ],
   "source": [
    "print(mySqrt(4)) # Output: 2\n",
    "print(mySqrt(8)) # Output: 2"
   ]
  },
  {
   "cell_type": "markdown",
   "id": "4250719b",
   "metadata": {},
   "source": [
    "You are given two non-empty linked lists representing two non-negative integers. The digits are stored in reverse order, and each of their nodes contains a single digit. Add the two numbers and return the sum as a linked list.\n",
    "\n",
    "You may assume the two numbers do not contain any leading zero, except the number 0 itself.\n",
    "\n",
    "\n",
    "Example 1:\n",
    "\n",
    "Input: l1 = [2,4,3], l2 = [5,6,4] Output: [7,0,8] Explanation: 342 + 465 = 807.\n",
    "\n",
    "Example 2:\n",
    "\n",
    "Input: l1 = [0], l2 = [0] Output: [0]\n",
    "\n",
    "Example 3:\n",
    "\n",
    "Input: l1 = [9,9,9,9,9,9,9], l2 = [9,9,9,9] Output: [8,9,9,9,0,0,0,1]\n",
    "\n",
    " \n",
    "\n",
    "Constraints:\n",
    "\n",
    "The number of nodes in each linked list is in the range [1, 100].\n",
    "0 <= Node.val <= 9 It is guaranteed that the list represents a number that does not have leading zeros."
   ]
  },
  {
   "cell_type": "code",
   "execution_count": 3,
   "id": "20fb3c30",
   "metadata": {},
   "outputs": [],
   "source": [
    "# Definition for singly-linked list.\n",
    "class ListNode:\n",
    "    def __init__(self, val=0, next=None):\n",
    "        self.val = val\n",
    "        self.next = next\n",
    "\n",
    "def addTwoNumbers(l1: ListNode, l2: ListNode) -> ListNode:\n",
    "    dummy_head = ListNode(0)\n",
    "    current = dummy_head\n",
    "    carry = 0\n",
    "    while l1 or l2:\n",
    "        x = l1.val if l1 else 0\n",
    "        y = l2.val if l2 else 0\n",
    "        sum = carry + x + y\n",
    "        carry = sum // 10\n",
    "        current.next = ListNode(sum % 10)\n",
    "        current = current.next\n",
    "        if l1:\n",
    "            l1 = l1.next\n",
    "        if l2:\n",
    "            l2 = l2.next\n",
    "    if carry > 0:\n",
    "        current.next = ListNode(carry)\n",
    "    return dummy_head.next"
   ]
  },
  {
   "cell_type": "code",
   "execution_count": 4,
   "id": "3d35408e",
   "metadata": {},
   "outputs": [
    {
     "name": "stdout",
     "output_type": "stream",
     "text": [
      "[7, 0, 8]\n"
     ]
    }
   ],
   "source": [
    "# Helper function to convert a list to a linked list\n",
    "def to_linked_list(lst):\n",
    "    dummy_head = ListNode(0)\n",
    "    current = dummy_head\n",
    "    for val in lst:\n",
    "        current.next = ListNode(val)\n",
    "        current = current.next\n",
    "    return dummy_head.next\n",
    "\n",
    "# Helper function to convert a linked list to a list\n",
    "def to_list(head):\n",
    "    lst = []\n",
    "    while head:\n",
    "        lst.append(head.val)\n",
    "        head = head.next\n",
    "    return lst\n",
    "\n",
    "l1 = to_linked_list([2,4,3])\n",
    "l2 = to_linked_list([5,6,4])\n",
    "result = addTwoNumbers(l1, l2)\n",
    "print(to_list(result)) # Output: [7,0,8]"
   ]
  },
  {
   "cell_type": "code",
   "execution_count": 6,
   "id": "5a96d199",
   "metadata": {},
   "outputs": [
    {
     "name": "stdout",
     "output_type": "stream",
     "text": [
      "[0]\n",
      "[8, 9, 9, 9, 0, 0, 0, 1]\n",
      "[0, 0, 1]\n"
     ]
    }
   ],
   "source": [
    "\n",
    "# Example 1\n",
    "l1 = to_linked_list([0])\n",
    "l2 = to_linked_list([0])\n",
    "result = addTwoNumbers(l1, l2)\n",
    "print(to_list(result)) # Output: [0]\n",
    "\n",
    "# Example 2\n",
    "l1 = to_linked_list([9,9,9,9,9,9,9])\n",
    "l2 = to_linked_list([9,9,9,9])\n",
    "result = addTwoNumbers(l1, l2)\n",
    "print(to_list(result)) # Output: [8,9,9,9,0,0,0,1]\n",
    "\n",
    "# Example 3\n",
    "l1 = to_linked_list([1])\n",
    "l2 = to_linked_list([9,9])\n",
    "result = addTwoNumbers(l1, l2)\n",
    "print(to_list(result)) # Output: [0,0,1]"
   ]
  },
  {
   "cell_type": "code",
   "execution_count": null,
   "id": "ceff4961",
   "metadata": {},
   "outputs": [],
   "source": []
  }
 ],
 "metadata": {
  "kernelspec": {
   "display_name": "Python 3 (ipykernel)",
   "language": "python",
   "name": "python3"
  },
  "language_info": {
   "codemirror_mode": {
    "name": "ipython",
    "version": 3
   },
   "file_extension": ".py",
   "mimetype": "text/x-python",
   "name": "python",
   "nbconvert_exporter": "python",
   "pygments_lexer": "ipython3",
   "version": "3.10.10"
  }
 },
 "nbformat": 4,
 "nbformat_minor": 5
}
