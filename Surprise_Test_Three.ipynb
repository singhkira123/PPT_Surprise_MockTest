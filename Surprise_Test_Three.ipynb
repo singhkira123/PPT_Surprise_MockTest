{
 "cells": [
  {
   "cell_type": "markdown",
   "id": "943445a1",
   "metadata": {},
   "source": [
    "**Implement a stack using a list in Python. Include the necessary methods such as push, pop, and isEmpty.**"
   ]
  },
  {
   "cell_type": "code",
   "execution_count": 1,
   "id": "9f74afdc",
   "metadata": {},
   "outputs": [],
   "source": [
    "class Stack:\n",
    "    def __init__(self):\n",
    "        self.stack = []\n",
    "\n",
    "    def push(self, item):\n",
    "        self.stack.append(item)\n",
    "\n",
    "    def pop(self):\n",
    "        if not self.isEmpty():\n",
    "            return self.stack.pop()\n",
    "        else:\n",
    "            raise IndexError(\"Stack is empty.\")\n",
    "\n",
    "    def isEmpty(self):\n",
    "        return len(self.stack) == 0\n"
   ]
  },
  {
   "cell_type": "code",
   "execution_count": 2,
   "id": "99227c43",
   "metadata": {},
   "outputs": [
    {
     "name": "stdout",
     "output_type": "stream",
     "text": [
      "30\n",
      "False\n",
      "20\n",
      "10\n",
      "True\n"
     ]
    }
   ],
   "source": [
    "my_stack = Stack()\n",
    "\n",
    "my_stack.push(10)\n",
    "my_stack.push(20)\n",
    "my_stack.push(30)\n",
    "\n",
    "print(my_stack.pop())  # Output: 30\n",
    "print(my_stack.isEmpty())  # Output: False\n",
    "print(my_stack.pop())  # Output: 20\n",
    "print(my_stack.pop())  # Output: 10\n",
    "print(my_stack.isEmpty())  # Output: True\n"
   ]
  },
  {
   "cell_type": "markdown",
   "id": "04e696db",
   "metadata": {},
   "source": [
    "**Implement a queue using a list in Python. Include the necessary methods such as enqueue, dequeue, and isEmpty.**"
   ]
  },
  {
   "cell_type": "code",
   "execution_count": 3,
   "id": "ae9005a4",
   "metadata": {},
   "outputs": [],
   "source": [
    "class Queue:\n",
    "    def __init__(self):\n",
    "        self.queue = []\n",
    "\n",
    "    def enqueue(self, item):\n",
    "        self.queue.append(item)\n",
    "\n",
    "    def dequeue(self):\n",
    "        if not self.isEmpty():\n",
    "            return self.queue.pop(0)\n",
    "        else:\n",
    "            raise IndexError(\"Queue is empty.\")\n",
    "\n",
    "    def isEmpty(self):\n",
    "        return len(self.queue) == 0\n"
   ]
  },
  {
   "cell_type": "code",
   "execution_count": 4,
   "id": "e846a604",
   "metadata": {},
   "outputs": [
    {
     "name": "stdout",
     "output_type": "stream",
     "text": [
      "10\n",
      "False\n",
      "20\n",
      "30\n",
      "True\n"
     ]
    }
   ],
   "source": [
    "my_queue = Queue()\n",
    "\n",
    "my_queue.enqueue(10)\n",
    "my_queue.enqueue(20)\n",
    "my_queue.enqueue(30)\n",
    "\n",
    "print(my_queue.dequeue())  # Output: 10\n",
    "print(my_queue.isEmpty())  # Output: False\n",
    "print(my_queue.dequeue())  # Output: 20\n",
    "print(my_queue.dequeue())  # Output: 30\n",
    "print(my_queue.isEmpty())  # Output: True\n"
   ]
  },
  {
   "cell_type": "code",
   "execution_count": null,
   "id": "18cd7b0d",
   "metadata": {},
   "outputs": [],
   "source": []
  }
 ],
 "metadata": {
  "kernelspec": {
   "display_name": "Python 3 (ipykernel)",
   "language": "python",
   "name": "python3"
  },
  "language_info": {
   "codemirror_mode": {
    "name": "ipython",
    "version": 3
   },
   "file_extension": ".py",
   "mimetype": "text/x-python",
   "name": "python",
   "nbconvert_exporter": "python",
   "pygments_lexer": "ipython3",
   "version": "3.10.9"
  }
 },
 "nbformat": 4,
 "nbformat_minor": 5
}
